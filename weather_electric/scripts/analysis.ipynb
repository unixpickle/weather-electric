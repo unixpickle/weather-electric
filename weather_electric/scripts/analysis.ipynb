{
 "cells": [
  {
   "cell_type": "code",
   "execution_count": null,
   "metadata": {},
   "outputs": [],
   "source": [
    "import matplotlib.pyplot as plt\n",
    "import numpy as np\n",
    "from sklearn.linear_model import LinearRegression\n",
    "from sklearn.svm import SVR\n",
    "from sklearn.tree import DecisionTreeRegressor, plot_tree\n",
    "\n",
    "from weather_electric.aggregate import load_aggregate_csv\n",
    "from weather_electric.models import (\n",
    "    model_mse,\n",
    "    create_mean_model,\n",
    "    create_hourly_model,\n",
    "    create_temp_model,\n",
    "    create_scikit_model,\n",
    "    usage_per_temp,\n",
    "    usage_per_hour,\n",
    "    zero_model,\n",
    ")"
   ]
  },
  {
   "cell_type": "code",
   "execution_count": null,
   "metadata": {},
   "outputs": [],
   "source": [
    "dataset = load_aggregate_csv('../../data/aggregate.csv')"
   ]
  },
  {
   "cell_type": "code",
   "execution_count": null,
   "metadata": {},
   "outputs": [],
   "source": [
    "print('MSE of mean prediction:', model_mse(dataset, create_mean_model(dataset)))"
   ]
  },
  {
   "cell_type": "code",
   "execution_count": null,
   "metadata": {},
   "outputs": [],
   "source": [
    "# hourly_mse = model_mse(dataset, create_hourly_model(dataset))\n",
    "# print('MSE of hourly prediction:', hourly_mse)\n",
    "\n",
    "plt.figure('Average Hourly Usage')\n",
    "hourly_avgs = usage_per_hour(dataset)\n",
    "plt.bar(hourly_avgs.keys(), hourly_avgs.values())\n",
    "plt.xlabel('Hour')\n",
    "plt.ylabel('Mean usage (kW)')\n",
    "plt.show()"
   ]
  },
  {
   "cell_type": "code",
   "execution_count": null,
   "metadata": {},
   "outputs": [],
   "source": [
    "temp_usages = usage_per_temp(dataset)\n",
    "temp_mse = model_mse(dataset, create_temp_model(dataset))\n",
    "print('MSE of temperature prediction:', temp_mse)\n",
    "\n",
    "xs, ys = zip(*sorted(temp_usages.items()))\n",
    "xs=np.array(xs)\n",
    "ys=np.array(ys)\n",
    "\n",
    "plt.figure('Average Hourly Usage')\n",
    "plt.bar(xs, ys)\n",
    "plt.xlabel('Temperature (F)')\n",
    "plt.ylabel('Mean usage (kW)')\n",
    "plt.show()\n",
    "\n",
    "svr = SVR(gamma=0.1, C=0.2)\n",
    "svr_model = create_scikit_model(dataset, svr, ['temp'])\n",
    "print('MSE of temp SVR:', model_mse(dataset, svr_model))\n",
    "\n",
    "plt.figure('Hourly Usage SVR Fit')\n",
    "plt.plot(xs, svr.predict(xs[:,None]))\n",
    "plt.xlabel('Temperature (F)')\n",
    "plt.ylabel('Predicted usage (kW)')\n",
    "plt.show()"
   ]
  },
  {
   "cell_type": "code",
   "execution_count": null,
   "metadata": {},
   "outputs": [],
   "source": [
    "weather_fields = [\n",
    "    'temp',\n",
    "    'cloudcover',\n",
    "    'wind_speed',\n",
    "    'precip_inches',\n",
    "    'humidity',\n",
    "    'pressure',\n",
    "    'uv_index',\n",
    "]\n",
    "hourly_model = create_hourly_model(dataset)\n",
    "\n",
    "def mse_for_field(name, residual):\n",
    "    model = LinearRegression()\n",
    "    fn = create_scikit_model(\n",
    "        dataset,\n",
    "        model,\n",
    "        [name],\n",
    "        residual=hourly_model if residual else zero_model,\n",
    "    )\n",
    "    return model_mse(dataset, fn)\n",
    "\n",
    "linear_mses = [mse_for_field(field, False) for field in weather_fields]\n",
    "residual_mses = [mse_for_field(field, True) for field in weather_fields]\n",
    "\n",
    "ys, xs = zip(*sorted(zip(linear_mses, weather_fields)))\n",
    "ys_residual = [residual_mses[weather_fields.index(x)] for x in xs]\n",
    "baseline_mse = model_mse(dataset, create_mean_model(dataset))\n",
    "\n",
    "ax = plt.figure()\n",
    "plt.bar(xs, ys, label='Base model')\n",
    "plt.bar(xs, ys_residual, label='Hourly residual')\n",
    "plt.xticks(rotation='vertical')\n",
    "plt.ylim(min(ys_residual) * 0.9, baseline_mse * 1.01)\n",
    "plt.xlabel('Variable')\n",
    "plt.ylabel('Linear regression MSE')\n",
    "plt.legend()\n",
    "plt.show()"
   ]
  },
  {
   "cell_type": "code",
   "execution_count": null,
   "metadata": {},
   "outputs": [],
   "source": [
    "model = LinearRegression()\n",
    "residual_temp_model = create_scikit_model(dataset, model, ['temp'], residual=hourly_model)\n",
    "print('residual temp coeffs', model.coef_)\n",
    "print('residual temp MSE:', model_mse(dataset, residual_temp_model))\n",
    "\n",
    "model = LinearRegression()\n",
    "residual_weather_model = create_scikit_model(dataset, model, weather_fields, residual=hourly_model)\n",
    "print('residual weather coeffs', list(zip(weather_fields, model.coef_)))\n",
    "print('residual weather MSE:', model_mse(dataset, residual_weather_model))"
   ]
  },
  {
   "cell_type": "code",
   "execution_count": null,
   "metadata": {},
   "outputs": [],
   "source": [
    "tree = DecisionTreeRegressor(max_depth=3)\n",
    "tree_fn = create_scikit_model(dataset, tree, ['temp', 'hour'])\n",
    "print('tree MSE:', model_mse(dataset, tree_fn))\n",
    "plot_tree(tree)\n",
    "plt.savefig('tree.svg')"
   ]
  }
 ],
 "metadata": {
  "interpreter": {
   "hash": "767d51c1340bd893661ea55ea3124f6de3c7a262a8b4abca0554b478b1e2ff90"
  },
  "kernelspec": {
   "display_name": "Python 3.9.7 64-bit",
   "language": "python",
   "name": "python3"
  },
  "language_info": {
   "codemirror_mode": {
    "name": "ipython",
    "version": 3
   },
   "file_extension": ".py",
   "mimetype": "text/x-python",
   "name": "python",
   "nbconvert_exporter": "python",
   "pygments_lexer": "ipython3",
   "version": "3.9.7"
  },
  "orig_nbformat": 4
 },
 "nbformat": 4,
 "nbformat_minor": 2
}
