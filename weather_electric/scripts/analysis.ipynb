{
 "cells": [
  {
   "cell_type": "code",
   "execution_count": null,
   "metadata": {},
   "outputs": [],
   "source": [
    "import csv\n",
    "from typing import Callable, Dict, Tuple\n",
    "\n",
    "import matplotlib.pyplot as plt\n",
    "import numpy as np\n",
    "from sklearn.linear_model import LinearRegression\n",
    "from sklearn.preprocessing import StandardScaler"
   ]
  },
  {
   "cell_type": "code",
   "execution_count": null,
   "metadata": {},
   "outputs": [],
   "source": [
    "with open('../../data/aggregate.csv', 'r') as f:\n",
    "    all_rows = list(csv.DictReader(f))"
   ]
  },
  {
   "cell_type": "code",
   "execution_count": null,
   "metadata": {},
   "outputs": [],
   "source": [
    "def row_duration(row: Dict[str, str]) -> float:\n",
    "    \"\"\"Get the duration of a row (in hours).\"\"\"\n",
    "    start_hr, start_min = row['start_time'].split(':')\n",
    "    end_hr, end_min = row['end_time'].split(':')\n",
    "    elapsed = float(end_hr) - float(start_hr)\n",
    "    if elapsed < 0:\n",
    "        # Assume at most one day difference.\n",
    "        elapsed += 24\n",
    "    elapsed += (float(end_min) - float(start_min)) / 60\n",
    "    return elapsed\n",
    "\n",
    "def row_usage(row: Dict[str, str]) -> float:\n",
    "    return float(row['usage']) / row_duration(row)"
   ]
  },
  {
   "cell_type": "code",
   "execution_count": null,
   "metadata": {},
   "outputs": [],
   "source": [
    "def model_mse(model: Callable[[Dict[str, str]], float]) -> float:\n",
    "    \"\"\"Get the hourly usage prediction MSE for a prediction model.\"\"\"\n",
    "    errors = [(model(x) - row_usage(x)) ** 2 for x in all_rows]\n",
    "    return float(np.mean(errors))\n",
    "\n",
    "mean_usage = np.mean([float(x['usage']) / row_duration(x) for x in all_rows])\n",
    "print('MSE of mean prediction:', model_mse(lambda _: mean_usage))"
   ]
  },
  {
   "cell_type": "code",
   "execution_count": null,
   "metadata": {},
   "outputs": [],
   "source": [
    "hourly_usages = {i: [row for row in all_rows if int(row['start_time'].split(':')[0]) == i]\n",
    "                 for i in range(24)}\n",
    "hourly_avgs = {i: np.mean([row_usage(x) for x in rows]) for i, rows in hourly_usages.items()}\n",
    "hourly_model = lambda row: hourly_avgs[int(row['start_time'].split(':')[0])]\n",
    "\n",
    "hourly_mse = model_mse(hourly_model)\n",
    "print('MSE of hourly prediction:', hourly_mse)\n",
    "\n",
    "plt.figure('Average Hourly Usage')\n",
    "plt.bar(hourly_avgs.keys(), hourly_avgs.values())\n",
    "plt.xlabel('Hour')\n",
    "plt.ylabel('Mean usage (kW)')\n",
    "plt.show()"
   ]
  },
  {
   "cell_type": "code",
   "execution_count": null,
   "metadata": {},
   "outputs": [],
   "source": [
    "def fit_linear_model(*fields: str, residual: bool = False) -> Tuple[\n",
    "    Callable[[Dict[str, str]], float], Dict[str, float]\n",
    "]:\n",
    "    def row_values(x: Dict[str, str]) -> np.ndarray:\n",
    "        return np.array([float(x[k]) for k in fields])\n",
    "\n",
    "    data_inputs = np.stack([row_values(x) for x in all_rows], axis=0)\n",
    "    data_outputs = np.array([row_usage(x) - (hourly_model(x) if residual else 0) for x in all_rows])\n",
    "\n",
    "    scaler = StandardScaler()\n",
    "    scaler.fit(data_inputs)\n",
    "\n",
    "    model = LinearRegression()\n",
    "    model.fit(data_inputs, data_outputs)\n",
    "\n",
    "    def model_fn(row: Dict[str, str]) -> float:\n",
    "        res = float(model.predict(row_values(row)[None])[0])\n",
    "        if residual:\n",
    "            res += hourly_model(row)\n",
    "        return res\n",
    "\n",
    "    return model_fn, dict(zip(fields, model.coef_.tolist()))"
   ]
  },
  {
   "cell_type": "code",
   "execution_count": null,
   "metadata": {},
   "outputs": [],
   "source": [
    "weather_fields = [\n",
    "    'temp',\n",
    "    'cloudcover',\n",
    "    'wind_speed',\n",
    "    'precip_inches',\n",
    "    'humidity',\n",
    "    'pressure',\n",
    "    'uv_index',\n",
    "]\n",
    "linear_mses = [model_mse(fit_linear_model(field)[0]) for field in weather_fields]\n",
    "residual_mses = [model_mse(fit_linear_model(field, residual=True)[0]) for field in weather_fields]\n",
    "\n",
    "ys, xs = zip(*sorted(zip(linear_mses, weather_fields)))\n",
    "ys_residual = [residual_mses[weather_fields.index(x)] for x in xs]\n",
    "ax = plt.figure()\n",
    "plt.bar(xs, ys, label='Base model')\n",
    "plt.bar(xs, ys_residual, label='Hourly residual')\n",
    "plt.xticks(rotation='vertical')\n",
    "plt.ylim(min(ys_residual)*0.9, model_mse(lambda _: mean_usage))\n",
    "plt.xlabel('Variable')\n",
    "plt.ylabel('Linear regression MSE')\n",
    "plt.legend()\n",
    "plt.show()"
   ]
  },
  {
   "cell_type": "code",
   "execution_count": null,
   "metadata": {},
   "outputs": [],
   "source": [
    "residual_temp_model, coeffs = fit_linear_model('temp', residual=True)\n",
    "print('residual temp coeffs', coeffs)\n",
    "print('residual temp MSE:', model_mse(residual_temp_model))\n",
    "\n",
    "residual_weather_model, coeffs = fit_linear_model(*weather_fields, residual=True)\n",
    "print('residual weather coeffs', coeffs)\n",
    "print('residual weather MSE:', model_mse(residual_weather_model))"
   ]
  }
 ],
 "metadata": {
  "interpreter": {
   "hash": "767d51c1340bd893661ea55ea3124f6de3c7a262a8b4abca0554b478b1e2ff90"
  },
  "kernelspec": {
   "display_name": "Python 3.9.7 64-bit",
   "language": "python",
   "name": "python3"
  },
  "language_info": {
   "codemirror_mode": {
    "name": "ipython",
    "version": 3
   },
   "file_extension": ".py",
   "mimetype": "text/x-python",
   "name": "python",
   "nbconvert_exporter": "python",
   "pygments_lexer": "ipython3",
   "version": "3.9.7"
  },
  "orig_nbformat": 4
 },
 "nbformat": 4,
 "nbformat_minor": 2
}
